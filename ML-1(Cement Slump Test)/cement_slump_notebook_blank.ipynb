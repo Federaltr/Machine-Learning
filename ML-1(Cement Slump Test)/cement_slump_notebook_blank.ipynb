{
  "cells": [
    {
      "cell_type": "markdown",
      "source": [
        "___\n",
        "\n",
        "<p style=\"text-align: center;\"><img src=\"https://docs.google.com/uc?id=1lY0Uj5R04yMY3-ZppPWxqCr5pvBLYPnV\" class=\"img-fluid\" alt=\"CLRSWY\"></p>\n",
        "\n",
        "___"
      ],
      "metadata": {
        "id": "nN5z6XI-Fw9J"
      }
    },
    {
      "cell_type": "markdown",
      "metadata": {
        "id": "eHhytqKxLkKN"
      },
      "source": [
        "# Concrete Slump Test Regression"
      ]
    },
    {
      "cell_type": "markdown",
      "metadata": {
        "id": "FyMIezE2LkKR"
      },
      "source": [
        "The concrete slump test measures the consistency of fresh concrete before it sets. It is performed to check the workability of freshly made concrete, and therefore the ease with which concrete flows. It can also be used as an indicator of an improperly mixed batch.\n",
        "\n",
        "<img src=\"https://i0.wp.com/civiconcepts.com/wp-content/uploads/2019/08/Slump-Cone-test-of-concrete.jpg?fit=977%2C488&ssl=1\">\n",
        "\n",
        "Our data set consists of various cement properties and the resulting slump test metrics in cm. Later on the set concrete is tested for its compressive strength 28 days later.\n",
        "\n",
        "Input variables (9):\n",
        "\n",
        "(component kg in one M^3 concrete)(7):\n",
        "* Cement\n",
        "* Slag\n",
        "* Fly ash\n",
        "* Water\n",
        "* SP\n",
        "* Coarse Aggr.\n",
        "* Fine Aggr.\n",
        "\n",
        "(Measurements)(2)\n",
        "* SLUMP (cm)\n",
        "* FLOW (cm)\n",
        "\n",
        "Target variable (1):\n",
        "* **28-day Compressive Strength (Mpa)**\n",
        "\n",
        "Data Source: https://archive.ics.uci.edu/ml/datasets/Concrete+Slump+Test\n",
        "\n",
        "*Credit: Yeh, I-Cheng, \"Modeling slump flow of concrete using second-order regressions and artificial neural networks,\" Cement and Concrete Composites, Vol.29, No. 6, 474-480, 2007.*"
      ]
    },
    {
      "cell_type": "markdown",
      "metadata": {
        "id": "Ml-0HrEBLkKU"
      },
      "source": [
        "# Importing dependencies"
      ]
    },
    {
      "cell_type": "code",
      "execution_count": null,
      "metadata": {
        "id": "SLDkU8VtZiFx"
      },
      "outputs": [],
      "source": [
        "import numpy as np\n",
        "import pandas as pd\n",
        "import seaborn as sns\n",
        "import matplotlib.pyplot as plt\n",
        "\n",
        "#%matplotlib inline\n",
        "#%matplotlib notebook\n",
        "plt.rcParams[\"figure.figsize\"] = (10,6)\n",
        "import warnings\n",
        "warnings.filterwarnings(\"ignore\")\n",
        "warnings.warn(\"this will not show\")\n",
        "pd.set_option('display.float_format', lambda x: '%.3f' % x)"
      ]
    },
    {
      "cell_type": "markdown",
      "metadata": {
        "id": "LU3s6xZXLkKW"
      },
      "source": [
        "# Loading data"
      ]
    },
    {
      "cell_type": "code",
      "source": [
        ""
      ],
      "metadata": {
        "id": "uT2BCHzfLvLu"
      },
      "execution_count": null,
      "outputs": []
    },
    {
      "cell_type": "markdown",
      "metadata": {
        "id": "1xsgyEZ5LkKb"
      },
      "source": [
        "# EDA and Graphical analysis"
      ]
    },
    {
      "cell_type": "code",
      "source": [
        ""
      ],
      "metadata": {
        "id": "OOynhUc7Lv1F"
      },
      "execution_count": null,
      "outputs": []
    },
    {
      "cell_type": "markdown",
      "metadata": {
        "id": "6mGpnc0Op9ib"
      },
      "source": [
        "# Data Preprocessing "
      ]
    },
    {
      "cell_type": "markdown",
      "metadata": {
        "id": "lQry6QMmLkKd"
      },
      "source": [
        "### Features and target variable\n",
        "* Split the data into features and target variable"
      ]
    },
    {
      "cell_type": "code",
      "source": [
        ""
      ],
      "metadata": {
        "id": "Q8WR47fMLzH1"
      },
      "execution_count": null,
      "outputs": []
    },
    {
      "cell_type": "markdown",
      "metadata": {
        "id": "2bgxIFqvLkKe"
      },
      "source": [
        "### Splitting data into training and testing\n",
        "* Split the data into training and testing sets"
      ]
    },
    {
      "cell_type": "code",
      "source": [
        ""
      ],
      "metadata": {
        "id": "uUotDhZ_L0YN"
      },
      "execution_count": null,
      "outputs": []
    },
    {
      "cell_type": "markdown",
      "metadata": {
        "id": "4YkV6BW2qAQf"
      },
      "source": [
        "## Scaling\n",
        "* import StandardScaler and scale the data. Use fit_transform() on the training set and transform() on the testing set to prevent data leakage."
      ]
    },
    {
      "cell_type": "code",
      "source": [
        ""
      ],
      "metadata": {
        "id": "9eLa4YNQL2J1"
      },
      "execution_count": null,
      "outputs": []
    },
    {
      "cell_type": "markdown",
      "metadata": {
        "id": "pe_hobuSLkKf"
      },
      "source": [
        "##  1. Model Building (Linear Regression)\n",
        "* Build a linear regression model, fit the model, and make predictions on the test and train set, and compare them."
      ]
    },
    {
      "cell_type": "code",
      "source": [
        ""
      ],
      "metadata": {
        "id": "MixfWgNNL35l"
      },
      "execution_count": null,
      "outputs": []
    },
    {
      "cell_type": "markdown",
      "metadata": {
        "id": "emzJ9dsTLkKg"
      },
      "source": [
        "### 1.1 Interpret the model\n",
        "* Interpret the model by looking at the coefficients"
      ]
    },
    {
      "cell_type": "code",
      "source": [
        ""
      ],
      "metadata": {
        "id": "G81OxjyLMCJd"
      },
      "execution_count": null,
      "outputs": []
    },
    {
      "cell_type": "markdown",
      "metadata": {
        "id": "3fCcbzwNLkKg"
      },
      "source": [
        "### 1.2 Model Evaluation\n",
        "* Evaluate the model if it is appropriate to linear regression,to do so use residuals and R-squared."
      ]
    },
    {
      "cell_type": "code",
      "source": [
        ""
      ],
      "metadata": {
        "id": "YRTnaI1wMHdl"
      },
      "execution_count": null,
      "outputs": []
    },
    {
      "cell_type": "markdown",
      "metadata": {
        "id": "IkKMCPoXLkKj"
      },
      "source": [
        "# 2. Regularization\n",
        "* Regularize the model by adding a regularization term to the loss function."
      ]
    },
    {
      "cell_type": "markdown",
      "metadata": {
        "id": "EnODVEgbLkKj"
      },
      "source": [
        "## 2.1 Ridge (Apply and evaluate)\n",
        "* Build a Ridge regression model, fit the model, and make predictions on the test and train set, and compare them.\n"
      ]
    },
    {
      "cell_type": "code",
      "source": [
        ""
      ],
      "metadata": {
        "id": "Jivj_YF7M8p1"
      },
      "execution_count": null,
      "outputs": []
    },
    {
      "cell_type": "markdown",
      "metadata": {
        "id": "V6YuerUULkKl"
      },
      "source": [
        "## 2.2 Lasso (Apply and evalute)\n",
        "* Build a Lasso regression model, fit the model, and make predictions on the test and train set, and compare them."
      ]
    },
    {
      "cell_type": "code",
      "source": [
        ""
      ],
      "metadata": {
        "id": "U7PzzbLqM8K9"
      },
      "execution_count": null,
      "outputs": []
    },
    {
      "cell_type": "markdown",
      "metadata": {
        "id": "B_4SjDxcLkKn"
      },
      "source": [
        "## 2.3 Elastic-Net (Apply and evaluate )\n",
        "\n",
        "---\n",
        "\n",
        "* Build an Elastic-Net regression model, fit the model, and make predictions on the test and train set, and compare them.\n",
        "* Use Gridsearch for hyperparameter tuning instead of ElacticnetCV"
      ]
    },
    {
      "cell_type": "code",
      "execution_count": null,
      "metadata": {
        "id": "U_cMyIkXLkKs"
      },
      "outputs": [],
      "source": [
        ""
      ]
    },
    {
      "cell_type": "markdown",
      "source": [
        "___\n",
        "\n",
        "<p style=\"text-align: center;\"><img src=\"https://docs.google.com/uc?id=1lY0Uj5R04yMY3-ZppPWxqCr5pvBLYPnV\" class=\"img-fluid\" alt=\"CLRSWY\"></p>\n",
        "\n",
        "___"
      ],
      "metadata": {
        "id": "FwWrVXXmF0lB"
      }
    }
  ],
  "metadata": {
    "colab": {
      "collapsed_sections": [],
      "name": "cement_slump_notebook_blank.ipynb",
      "provenance": []
    },
    "kernelspec": {
      "display_name": "Python 3 (ipykernel)",
      "language": "python",
      "name": "python3"
    },
    "language_info": {
      "codemirror_mode": {
        "name": "ipython",
        "version": 3
      },
      "file_extension": ".py",
      "mimetype": "text/x-python",
      "name": "python",
      "nbconvert_exporter": "python",
      "pygments_lexer": "ipython3",
      "version": "3.9.7"
    }
  },
  "nbformat": 4,
  "nbformat_minor": 0
}